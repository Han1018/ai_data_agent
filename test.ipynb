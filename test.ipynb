{
 "cells": [
  {
   "cell_type": "code",
   "execution_count": 37,
   "metadata": {},
   "outputs": [
    {
     "name": "stderr",
     "output_type": "stream",
     "text": [
      "/home/zonghan/miniforge3/envs/tsmc_hack/lib/python3.12/site-packages/langsmith/client.py:253: LangSmithMissingAPIKeyWarning: API key must be provided when using hosted LangSmith API\n",
      "  warnings.warn(\n"
     ]
    }
   ],
   "source": [
    "from sqlalchemy import create_engine\n",
    "import sqlalchemy\n",
    "from langchain_community.utilities.sql_database import SQLDatabase\n",
    "from vertexai import init\n",
    "from langchain.chat_models import init_chat_model\n",
    "from langchain_community.agent_toolkits.sql.toolkit import SQLDatabaseToolkit\n",
    "from langchain.tools import Tool\n",
    "from langchain import hub\n",
    "from langchain_core.messages import HumanMessage\n",
    "from langgraph.prebuilt import create_react_agent\n",
    "import vertexai\n",
    "from google.cloud import aiplatform\n",
    "from langchain_google_vertexai import VertexAI\n",
    "from langchain.chains import RetrievalQA\n",
    "from typing import List, TypedDict\n",
    "from langgraph.graph import StateGraph\n",
    "from typing import Any\n",
    "from pydantic import Field\n",
    "\n",
    "from langchain_google_vertexai import (\n",
    "    VertexAIEmbeddings,\n",
    "    VectorSearchVectorStore,\n",
    ")\n",
    "\n",
    "from prompt import LLM_SQL_SYS_PROMPT\n",
    "from IPython.display import Image, display\n",
    "\n",
    "from langchain.schema import AIMessage\n",
    "import json\n",
    "\n",
    "\n",
    "import re\n",
    "\n",
    "ROLE_ACCESS_LIST = {\"cn\":['CNY'], \"kr\":['KRW'], \"gb\":['TWD', 'KRW', 'CNY', 'USD']}\n",
    "############################################\n",
    "# 1. 設定資料庫連線\n",
    "############################################\n",
    "PROJECT_ID = \"tsmccareerhack2025-bsid-grp2\"\n",
    "REGION = \"us-central1\"  \n",
    "INSTANCE = \"sql-instance-relational\"\n",
    "DATABASE = \"postgres\" \n",
    "TABLE_NAME = \"fin_data\" \n",
    "DB_HOST = \"34.56.145.52\"  # Cloud SQL Public IP\n",
    "DB_PORT = \"5432\"  # PostgreSQL 預設端口\n",
    "_USER = \"postgres\"\n",
    "_PASSWORD = \"postgres\"\n",
    "\n",
    "db_url = f'postgresql+psycopg2://{_USER}:{_PASSWORD}@{DB_HOST}:{DB_PORT}/{DATABASE}'\n",
    "engine = sqlalchemy.create_engine(db_url)\n",
    "db = SQLDatabase(engine)\n",
    "\n",
    "############################################\n",
    "# 2. 初始化 Vertex AI & LLM\n",
    "############################################\n",
    "init(project=PROJECT_ID, location=REGION)\n",
    "llm = init_chat_model(\"gemini-2.0-flash\", model_provider=\"google_vertexai\")\n",
    "\n",
    "############################################\n",
    "# 3. 設定 SQL Agent 工具\n",
    "############################################\n",
    "def extract_sql_from_response(response):\n",
    "    \"\"\"從 LLM 回傳的內容中提取 SQL 查詢\"\"\"\n",
    "    if \"messages\" in response:\n",
    "        return response[\"messages\"][-1].content.strip()\n",
    "    return str(response).strip()\n",
    "\n",
    "class SQLQueryGenerator(Tool):\n",
    "    \"\"\"覆寫 SQLDatabaseToolkit，讓 LLM 只產生 SQL，而不執行\"\"\"\n",
    "\n",
    "    agent_executor: Any = Field(...)  # 明確宣告 agent_executor，讓 pydantic 允許這個屬性\n",
    "\n",
    "    def __init__(self, agent_executor, **kwargs):\n",
    "        super().__init__(\n",
    "            name=\"Generate SQL\",\n",
    "            description=\"Generate SQL query based on user input without executing it.\",\n",
    "            func=self.run,  # 🛠 **這裡修正，指定一個可執行函式**\n",
    "            agent_executor=agent_executor,  # 傳入 `agent_executor`\n",
    "            **kwargs\n",
    "        )\n",
    "\n",
    "    def run(self, query):\n",
    "        \"\"\"讓 LLM 產生 SQL 查詢但不執行\"\"\"\n",
    "        response = self.agent_executor.invoke({\"messages\": [HumanMessage(content=query)]})\n",
    "        print(response)  # 確認 response 結構\n",
    "\n",
    "        db_queries = []\n",
    "        \n",
    "        # 檢查 response[\"messages\"] 內的 `tool_calls`\n",
    "        for message in response[\"messages\"]:\n",
    "            if isinstance(message, AIMessage) and \"function_call\" in message.additional_kwargs:\n",
    "                function_call = message.additional_kwargs[\"function_call\"]\n",
    "                print(\"function_call: \", function_call)\n",
    "\n",
    "                if function_call[\"name\"] == \"sql_db_query\":\n",
    "                    try:\n",
    "                        # 解析 JSON 字符串\n",
    "                        function_args = json.loads(function_call[\"arguments\"])\n",
    "                        sql_query = function_args[\"query\"]\n",
    "                        db_queries.append(sql_query)\n",
    "                    except json.JSONDecodeError as e:\n",
    "                        print(\"JSON 解析錯誤: \", e)\n",
    "\n",
    "            # 如果 `tool_calls` 是獨立陣列\n",
    "            if \"tool_calls\" in message.additional_kwargs:\n",
    "                for tool_call in message.additional_kwargs[\"tool_calls\"]:\n",
    "                    if tool_call[\"name\"] == \"sql_db_query\":\n",
    "                        sql_query = tool_call[\"args\"][\"query\"]\n",
    "                        db_queries.append(sql_query)\n",
    "\n",
    "        print(\"db_queries: \", db_queries)\n",
    "        \n",
    "        if db_queries:\n",
    "            return db_queries[0]  # 只取第一個 SQL 查詢\n",
    "        return \"No SQL query generated\"\n",
    "\n",
    "\n",
    "def modify_query_with_companies(query: str, allow_companies: list) -> str:\n",
    "    \"\"\"根據允許的公司列表修改 SQL 查詢，確保只能存取對應的 company_name，並正確處理 LIMIT\"\"\"\n",
    "\n",
    "    # 如果 allow_companies 為 ['all']，則不做任何限制\n",
    "    if allow_companies == ['all']:\n",
    "        return query\n",
    "\n",
    "    # 移除結尾的 `;`，避免影響拼接條件\n",
    "    has_semicolon = query.strip().endswith(\";\")\n",
    "    query = query.strip().rstrip(\";\")\n",
    "\n",
    "    # 確保公司名稱正確格式化，轉換成 SQL IN ('xxx', 'yyy')\n",
    "    company_filter = \", \".join([f\"'{company}'\" for company in allow_companies])\n",
    "\n",
    "    # 使用正則表達式分割 `LIMIT`\n",
    "    parts = re.split(r\"(\\bLIMIT\\b\\s+\\d+)\", query, flags=re.IGNORECASE)\n",
    "\n",
    "    # 確保 `WHERE` 在 `LIMIT` 之前\n",
    "    if len(parts) > 1:\n",
    "        base_query = parts[0].strip()  # `LIMIT` 之前的查詢\n",
    "        limit_clause = parts[1]  # `LIMIT` 子句\n",
    "        if \"WHERE\" in base_query.upper():\n",
    "            base_query += f\" AND company_name IN ({company_filter})\"\n",
    "        else:\n",
    "            base_query += f\" WHERE company_name IN ({company_filter})\"\n",
    "        query = f\"{base_query} {limit_clause}\"\n",
    "    else:\n",
    "        if \"WHERE\" in query.upper():\n",
    "            query += f\" AND company_name IN ({company_filter})\"\n",
    "        else:\n",
    "            query += f\" WHERE company_name IN ({company_filter})\"\n",
    "\n",
    "    # 如果原本有 `;`，則補回\n",
    "    if has_semicolon:\n",
    "        query += \";\"\n",
    "    \n",
    "    return query\n",
    "\n",
    "\n",
    "toolkit = SQLDatabaseToolkit(db=db, llm=llm)\n",
    "tools = toolkit.get_tools()\n",
    "prompt_template = hub.pull(\"langchain-ai/sql-agent-system-prompt\")\n",
    "system_message = prompt_template.format(dialect=\"PostgreSQL\", top_k=5)\n",
    "agent_executor = create_react_agent(llm, tools, prompt=system_message)\n",
    "sql_generator = SQLQueryGenerator(agent_executor)  # 創建 SQL 產生工具\n",
    "USER_ROLE = \"cn\"\n"
   ]
  },
  {
   "cell_type": "code",
   "execution_count": 38,
   "metadata": {},
   "outputs": [
    {
     "name": "stdout",
     "output_type": "stream",
     "text": [
      "{'messages': [HumanMessage(content=\"Retrieve Amazon's `Revenue` data for Q1 2020.\", additional_kwargs={}, response_metadata={}, id='da431bd6-cb0c-4521-9495-1553c600c1f0'), AIMessage(content=\"Okay, I need to find the relevant table that contains Amazon's revenue data. I'll start by listing the available tables.\\n\", additional_kwargs={'function_call': {'name': 'sql_db_list_tables', 'arguments': '{}'}}, response_metadata={'is_blocked': False, 'safety_ratings': [], 'usage_metadata': {'prompt_token_count': 521, 'candidates_token_count': 35, 'total_token_count': 556, 'prompt_tokens_details': [{'modality': 1, 'token_count': 521}], 'candidates_tokens_details': [{'modality': 1, 'token_count': 35}], 'cached_content_token_count': 0, 'cache_tokens_details': []}, 'finish_reason': 'STOP', 'avg_logprobs': -0.21232271194458008}, id='run-ea223a7d-2361-4453-b681-9683eac8c742-0', tool_calls=[{'name': 'sql_db_list_tables', 'args': {}, 'id': '90af05e6-2d19-4854-a8f8-82a1c856a073', 'type': 'tool_call'}], usage_metadata={'input_tokens': 521, 'output_tokens': 35, 'total_tokens': 556}), ToolMessage(content='fin_data, trainscript_data, users', name='sql_db_list_tables', id='94a1112f-b9ce-4685-8b9a-0f48288048fd', tool_call_id='90af05e6-2d19-4854-a8f8-82a1c856a073'), AIMessage(content=['Okay, the tables are `fin_data`, `trainscript_data`, and `users`.  `fin_data` seems like the most likely candidate for financial data. I will check its schema.\\n', '\\n'], additional_kwargs={'function_call': {'name': 'sql_db_schema', 'arguments': '{\"table_names\": \"fin_data\"}'}}, response_metadata={'is_blocked': False, 'safety_ratings': [], 'usage_metadata': {'prompt_token_count': 574, 'candidates_token_count': 55, 'total_token_count': 629, 'prompt_tokens_details': [{'modality': 1, 'token_count': 574}], 'candidates_tokens_details': [{'modality': 1, 'token_count': 55}], 'cached_content_token_count': 0, 'cache_tokens_details': []}, 'finish_reason': 'STOP', 'avg_logprobs': -0.19144805561412465}, id='run-5ef13178-931c-47d0-bce0-1861b3973970-0', tool_calls=[{'name': 'sql_db_schema', 'args': {'table_names': 'fin_data'}, 'id': '018407be-7c96-412c-8664-47a897c13b12', 'type': 'tool_call'}], usage_metadata={'input_tokens': 574, 'output_tokens': 55, 'total_tokens': 629}), ToolMessage(content='\\nCREATE TABLE fin_data (\\n\\tid SERIAL NOT NULL, \\n\\tcompany_name VARCHAR(255) NOT NULL, \\n\\tindex_name VARCHAR(255) NOT NULL, \\n\\tcalendar_year INTEGER NOT NULL, \\n\\tcalendar_qtr VARCHAR(10) NOT NULL, \\n\\tusd_value DOUBLE PRECISION, \\n\\tlocal_currency VARCHAR(10) NOT NULL, \\n\\tval_unit VARCHAR(50) NOT NULL, \\n\\tlocal_value DOUBLE PRECISION, \\n\\tCONSTRAINT fin_data_pkey PRIMARY KEY (id)\\n)\\n\\n/*\\n3 rows from fin_data table:\\nid\\tcompany_name\\tindex_name\\tcalendar_year\\tcalendar_qtr\\tusd_value\\tlocal_currency\\tval_unit\\tlocal_value\\n1\\tAmazon\\tCost of Goods Sold\\t2020\\tQ1\\t44257.0\\tUSD\\tMillion\\t44257.0\\n2\\tAmazon\\tOperating Expense\\t2020\\tQ1\\t71463.0\\tUSD\\tMillion\\t71463.0\\n3\\tAmazon\\tOperating Income\\t2020\\tQ1\\t3989.0\\tUSD\\tMillion\\t3989.0\\n*/', name='sql_db_schema', id='04e462e1-8efc-425b-98c4-9bbdc5344e2d', tool_call_id='018407be-7c96-412c-8664-47a897c13b12'), AIMessage(content=[\"The `fin_data` table seems perfect. It has `company_name`, `index_name`, `calendar_year`, `calendar_qtr`, and `usd_value`. I'll query this table for Amazon's Revenue data in Q1 2020. I will limit the results to 5.\\n\\n\", '\\n'], additional_kwargs={'function_call': {'name': 'sql_db_query', 'arguments': '{\"query\": \"SELECT usd_value FROM fin_data WHERE company_name = \\'Amazon\\' AND index_name = \\'Revenue\\' AND calendar_year = 2020 AND calendar_qtr = \\'Q1\\' LIMIT 5;\"}'}}, response_metadata={'is_blocked': False, 'safety_ratings': [], 'usage_metadata': {'prompt_token_count': 920, 'candidates_token_count': 125, 'total_token_count': 1045, 'prompt_tokens_details': [{'modality': 1, 'token_count': 920}], 'candidates_tokens_details': [{'modality': 1, 'token_count': 125}], 'cached_content_token_count': 0, 'cache_tokens_details': []}, 'finish_reason': 'STOP', 'avg_logprobs': -0.15610507202148438}, id='run-17b290ae-4bfe-4885-a406-2e8062fe910a-0', tool_calls=[{'name': 'sql_db_query', 'args': {'query': \"SELECT usd_value FROM fin_data WHERE company_name = 'Amazon' AND index_name = 'Revenue' AND calendar_year = 2020 AND calendar_qtr = 'Q1' LIMIT 5;\"}, 'id': '895fe7cb-9833-477f-9c4a-6f8d0cceb336', 'type': 'tool_call'}], usage_metadata={'input_tokens': 920, 'output_tokens': 125, 'total_tokens': 1045}), ToolMessage(content='[(75452.0,)]', name='sql_db_query', id='2be16747-6d88-4a91-ba51-a4657c0d878c', tool_call_id='895fe7cb-9833-477f-9c4a-6f8d0cceb336'), AIMessage(content=\"Amazon's Revenue for Q1 2020 was 75452.0 (Million USD).\\n\", additional_kwargs={}, response_metadata={'is_blocked': False, 'safety_ratings': [], 'usage_metadata': {'prompt_token_count': 1061, 'candidates_token_count': 26, 'total_token_count': 1087, 'prompt_tokens_details': [{'modality': 1, 'token_count': 1061}], 'candidates_tokens_details': [{'modality': 1, 'token_count': 26}], 'cached_content_token_count': 0, 'cache_tokens_details': []}, 'finish_reason': 'STOP', 'avg_logprobs': -0.06769185341321506}, id='run-4b33692e-630d-42f5-9aed-4bdd0cf50fc1-0', usage_metadata={'input_tokens': 1061, 'output_tokens': 26, 'total_tokens': 1087})]}\n",
      "function_call:  {'name': 'sql_db_list_tables', 'arguments': '{}'}\n",
      "function_call:  {'name': 'sql_db_schema', 'arguments': '{\"table_names\": \"fin_data\"}'}\n",
      "function_call:  {'name': 'sql_db_query', 'arguments': '{\"query\": \"SELECT usd_value FROM fin_data WHERE company_name = \\'Amazon\\' AND index_name = \\'Revenue\\' AND calendar_year = 2020 AND calendar_qtr = \\'Q1\\' LIMIT 5;\"}'}\n",
      "db_queries:  [\"SELECT usd_value FROM fin_data WHERE company_name = 'Amazon' AND index_name = 'Revenue' AND calendar_year = 2020 AND calendar_qtr = 'Q1' LIMIT 5;\"]\n",
      "Secured SQL: SELECT usd_value FROM fin_data WHERE company_name = 'Amazon' AND index_name = 'Revenue' AND calendar_year = 2020 AND calendar_qtr = 'Q1' LIMIT 5;\n",
      "\n",
      "final_response: \n",
      " [(75452.0,)]\n"
     ]
    }
   ],
   "source": [
    "query = \"Retrieve Amazon's `Revenue` data for Q1 2020.\"\n",
    "generated_sql = sql_generator.run(query)\n",
    "\n",
    "# 在查詢中加入權限控制條件\n",
    "secured_sql = modify_query_with_companies(generated_sql, [\"all\"])\n",
    "print(f\"Secured SQL: {secured_sql}\\n\")\n",
    "\n",
    "# 執行修改後的 SQL\n",
    "final_response = db.run(secured_sql)\n",
    "print(\"final_response: \\n\", final_response)"
   ]
  },
  {
   "cell_type": "code",
   "execution_count": 39,
   "metadata": {},
   "outputs": [
    {
     "name": "stdout",
     "output_type": "stream",
     "text": [
      "Secured SQL: SELECT * FROM fin_data WHERE company_name IN ('Baidu');\n",
      "\n",
      "final_response: \n",
      " [(571, 'Baidu', 'Cost of Goods Sold', 2020, 'Q1', 2104.1, 'CNY', 'Million', 14687.0), (572, 'Baidu', 'Operating Expense', 2020, 'Q1', 3292.46, 'CNY', 'Million', 22982.0), (573, 'Baidu', 'Operating Income', 2020, 'Q1', -62.61, 'CNY', 'Million', -437.0), (574, 'Baidu', 'Revenue', 2020, 'Q1', 3229.85, 'CNY', 'Million', 22545.0), (575, 'Baidu', 'Tax Expense', 2020, 'Q1', 28.37, 'CNY', 'Million', 198.0), (576, 'Baidu', 'Total Asset', 2020, 'Q1', 42220.32, 'CNY', 'Million', 299017.0), (577, 'Baidu', 'Cost of Goods Sold', 2020, 'Q2', 1853.15, 'CNY', 'Million', 13134.0), (578, 'Baidu', 'Operating Expense', 2020, 'Q2', 3159.13, 'CNY', 'Million', 22390.0), (579, 'Baidu', 'Operating Income', 2020, 'Q2', 514.15, 'CNY', 'Million', 3644.0), (580, 'Baidu', 'Revenue', 2020, 'Q2', 3673.29, 'CNY', 'Million', 26034.0), (581, 'Baidu', 'Tax Expense', 2020, 'Q2', 172.42, 'CNY', 'Million', 1222.0), (582, 'Baidu', 'Total Asset', 2020, 'Q2', 43092.82, 'CNY', 'Million', 304468.0), (583, 'Baidu', 'Cost of Goods Sold', 2020, 'Q3', 1852.85, 'CNY', 'Million', 12815.0), (584, 'Baidu', 'Operating Expense', 2020, 'Q3', 3191.85, 'CNY', 'Million', 22076.0), (585, 'Baidu', 'Operating Income', 2020, 'Q3', 890.06, 'CNY', 'Million', 6156.0), (586, 'Baidu', 'Revenue', 2020, 'Q3', 4081.91, 'CNY', 'Million', 28232.0), (587, 'Baidu', 'Tax Expense', 2020, 'Q3', 233.94, 'CNY', 'Million', 1618.0), (588, 'Baidu', 'Total Asset', 2020, 'Q3', 46346.93, 'CNY', 'Million', 314742.0), (589, 'Baidu', 'Cost of Goods Sold', 2020, 'Q4', 2198.54, 'CNY', 'Million', 14522.0), (590, 'Baidu', 'Operating Expense', 2020, 'Q4', 3828.15, 'CNY', 'Million', 25286.0), (591, 'Baidu', 'Operating Income', 2020, 'Q4', 753.49, 'CNY', 'Million', 4977.0), (592, 'Baidu', 'Revenue', 2020, 'Q4', 4581.63, 'CNY', 'Million', 30263.0), (593, 'Baidu', 'Tax Expense', 2020, 'Q4', 155.33, 'CNY', 'Million', 1026.0), (594, 'Baidu', 'Total Asset', 2020, 'Q4', 50972.55, 'CNY', 'Million', 332708.0), (595, 'Baidu', 'Cost of Goods Sold', 2021, 'Q1', 2313.65, 'CNY', 'Million', 15002.0), (596, 'Baidu', 'Operating Expense', 2021, 'Q1', 3908.78, 'CNY', 'Million', 25345.0), (597, 'Baidu', 'Operating Income', 2021, 'Q1', 430.13, 'CNY', 'Million', 2789.0), (598, 'Baidu', 'Revenue', 2021, 'Q1', 4338.9, 'CNY', 'Million', 28134.0), (599, 'Baidu', 'Tax Expense', 2021, 'Q1', 236.58, 'CNY', 'Million', 1534.0), (600, 'Baidu', 'Total Asset', 2021, 'Q1', 57890.09, 'CNY', 'Million', 379348.0), (601, 'Baidu', 'Cost of Goods Sold', 2021, 'Q2', 2462.05, 'CNY', 'Million', 15897.0), (602, 'Baidu', 'Operating Expense', 2021, 'Q2', 4319.0, 'CNY', 'Million', 27887.0), (603, 'Baidu', 'Operating Income', 2021, 'Q2', 536.33, 'CNY', 'Million', 3463.0), (604, 'Baidu', 'Revenue', 2021, 'Q2', 4855.33, 'CNY', 'Million', 31350.0), (605, 'Baidu', 'Tax Expense', 2021, 'Q2', 340.26, 'CNY', 'Million', 2197.0), (606, 'Baidu', 'Total Asset', 2021, 'Q2', 60287.28, 'CNY', 'Million', 389287.0), (607, 'Baidu', 'Cost of Goods Sold', 2021, 'Q3', 2492.26, 'CNY', 'Million', 16126.0), (608, 'Baidu', 'Operating Expense', 2021, 'Q3', 4576.67, 'CNY', 'Million', 29613.0), (609, 'Baidu', 'Operating Income', 2021, 'Q3', 356.7, 'CNY', 'Million', 2308.0), (610, 'Baidu', 'Revenue', 2021, 'Q3', 4933.37, 'CNY', 'Million', 31921.0), (611, 'Baidu', 'Tax Expense', 2021, 'Q3', -284.22, 'CNY', 'Million', -1839.0), (612, 'Baidu', 'Total Asset', 2021, 'Q3', 59638.16, 'CNY', 'Million', 384356.0), (613, 'Baidu', 'Cost of Goods Sold', 2021, 'Q4', 2706.59, 'CNY', 'Million', 17289.0), (614, 'Baidu', 'Operating Expense', 2021, 'Q4', 4873.39, 'CNY', 'Million', 31130.0), (615, 'Baidu', 'Operating Income', 2021, 'Q4', 306.52, 'CNY', 'Million', 1958.0), (616, 'Baidu', 'Revenue', 2021, 'Q4', 5179.91, 'CNY', 'Million', 33088.0), (617, 'Baidu', 'Tax Expense', 2021, 'Q4', 202.73, 'CNY', 'Million', 1295.0), (618, 'Baidu', 'Total Asset', 2021, 'Q4', 59790.44, 'CNY', 'Million', 380034.0), (619, 'Baidu', 'Cost of Goods Sold', 2022, 'Q1', 2449.39, 'CNY', 'Million', 15546.0), (620, 'Baidu', 'Operating Expense', 2022, 'Q1', 4066.56, 'CNY', 'Million', 25810.0), (621, 'Baidu', 'Operating Income', 2022, 'Q1', 409.81, 'CNY', 'Million', 2601.0), (622, 'Baidu', 'Revenue', 2022, 'Q1', 4476.36, 'CNY', 'Million', 28411.0), (623, 'Baidu', 'Tax Expense', 2022, 'Q1', 61.6, 'CNY', 'Million', 391.0), (624, 'Baidu', 'Total Asset', 2022, 'Q1', 59248.11, 'CNY', 'Million', 375633.0), (625, 'Baidu', 'Cost of Goods Sold', 2022, 'Q2', 2292.93, 'CNY', 'Million', 15171.0), (626, 'Baidu', 'Operating Expense', 2022, 'Q2', 3966.94, 'CNY', 'Million', 26247.0), (627, 'Baidu', 'Operating Income', 2022, 'Q2', 513.87, 'CNY', 'Million', 3400.0), (628, 'Baidu', 'Revenue', 2022, 'Q2', 4480.81, 'CNY', 'Million', 29647.0), (629, 'Baidu', 'Tax Expense', 2022, 'Q2', 3.78, 'CNY', 'Million', 25.0), (630, 'Baidu', 'Total Asset', 2022, 'Q2', 57486.45, 'CNY', 'Million', 385119.0), (631, 'Baidu', 'Cost of Goods Sold', 2022, 'Q3', 2376.21, 'CNY', 'Million', 16273.0), (632, 'Baidu', 'Operating Expense', 2022, 'Q3', 3975.14, 'CNY', 'Million', 27223.0), (633, 'Baidu', 'Operating Income', 2022, 'Q3', 776.4, 'CNY', 'Million', 5317.0), (634, 'Baidu', 'Revenue', 2022, 'Q3', 4751.54, 'CNY', 'Million', 32540.0), (635, 'Baidu', 'Tax Expense', 2022, 'Q3', 132.59, 'CNY', 'Million', 908.0), (636, 'Baidu', 'Total Asset', 2022, 'Q3', 54670.95, 'CNY', 'Million', 389033.0), (637, 'Baidu', 'Cost of Goods Sold', 2022, 'Q4', 2383.62, 'CNY', 'Million', 16945.0), (638, 'Baidu', 'Operating Expense', 2022, 'Q4', 4006.8, 'CNY', 'Million', 28484.0), (639, 'Baidu', 'Operating Income', 2022, 'Q4', 646.09, 'CNY', 'Million', 4593.0), (640, 'Baidu', 'Revenue', 2022, 'Q4', 4652.89, 'CNY', 'Million', 33077.0), (641, 'Baidu', 'Tax Expense', 2022, 'Q4', 176.4, 'CNY', 'Million', 1254.0), (642, 'Baidu', 'Total Asset', 2022, 'Q4', 56674.25, 'CNY', 'Million', 390973.0), (643, 'Baidu', 'Cost of Goods Sold', 2023, 'Q1', 2213.23, 'CNY', 'Million', 15152.0), (644, 'Baidu', 'Operating Expense', 2023, 'Q1', 3821.74, 'CNY', 'Million', 26164.0), (645, 'Baidu', 'Operating Income', 2023, 'Q1', 727.42, 'CNY', 'Million', 4980.0), (646, 'Baidu', 'Revenue', 2023, 'Q1', 4549.16, 'CNY', 'Million', 31144.0), (647, 'Baidu', 'Tax Expense', 2023, 'Q1', 174.26, 'CNY', 'Million', 1193.0), (648, 'Baidu', 'Total Asset', 2023, 'Q1', 58375.16, 'CNY', 'Million', 400979.0), (649, 'Baidu', 'Cost of Goods Sold', 2023, 'Q2', 2303.99, 'CNY', 'Million', 16167.0), (650, 'Baidu', 'Operating Expense', 2023, 'Q2', 4110.9, 'CNY', 'Million', 28846.0), (651, 'Baidu', 'Operating Income', 2023, 'Q2', 742.49, 'CNY', 'Million', 5210.0), (652, 'Baidu', 'Revenue', 2023, 'Q2', 4853.38, 'CNY', 'Million', 34056.0), (653, 'Baidu', 'Tax Expense', 2023, 'Q2', 180.99, 'CNY', 'Million', 1270.0), (654, 'Baidu', 'Total Asset', 2023, 'Q2', 56015.05, 'CNY', 'Million', 406322.0), (655, 'Baidu', 'Cost of Goods Sold', 2023, 'Q3', 2249.33, 'CNY', 'Million', 16294.0), (656, 'Baidu', 'Operating Expense', 2023, 'Q3', 3889.19, 'CNY', 'Million', 28173.0), (657, 'Baidu', 'Operating Income', 2023, 'Q3', 866.11, 'CNY', 'Million', 6274.0), (658, 'Baidu', 'Revenue', 2023, 'Q3', 4755.3, 'CNY', 'Million', 34447.0), (659, 'Baidu', 'Tax Expense', 2023, 'Q3', 176.98, 'CNY', 'Million', 1282.0), (660, 'Baidu', 'Total Asset', 2023, 'Q3', 56321.46, 'CNY', 'Million', 411034.0), (661, 'Baidu', 'Cost of Goods Sold', 2023, 'Q4', 2413.33, 'CNY', 'Million', 17418.0), (662, 'Baidu', 'Operating Expense', 2023, 'Q4', 4095.51, 'CNY', 'Million', 29559.0), (663, 'Baidu', 'Operating Income', 2023, 'Q4', 747.08, 'CNY', 'Million', 5392.0), (664, 'Baidu', 'Revenue', 2023, 'Q4', 4842.59, 'CNY', 'Million', 34951.0), (665, 'Baidu', 'Tax Expense', 2023, 'Q4', -13.3, 'CNY', 'Million', -96.0), (666, 'Baidu', 'Total Asset', 2023, 'Q4', 57280.32, 'CNY', 'Million', 406759.0), (667, 'Baidu', 'Cost of Goods Sold', 2024, 'Q1', 2127.19, 'CNY', 'Million', 15291.0), (668, 'Baidu', 'Operating Expense', 2024, 'Q1', 3620.99, 'CNY', 'Million', 26029.0), (669, 'Baidu', 'Operating Income', 2024, 'Q1', 762.9, 'CNY', 'Million', 5484.0), (670, 'Baidu', 'Revenue', 2024, 'Q1', 4383.89, 'CNY', 'Million', 31513.0), (671, 'Baidu', 'Tax Expense', 2024, 'Q1', 122.84, 'CNY', 'Million', 883.0), (672, 'Baidu', 'Total Asset', 2024, 'Q1', 57418.17, 'CNY', 'Million', 414697.0), (673, 'Baidu', 'Cost of Goods Sold', 2024, 'Q2', 2264.48, 'CNY', 'Million', 16398.0), (674, 'Baidu', 'Operating Expense', 2024, 'Q2', 3864.85, 'CNY', 'Million', 27987.0), (675, 'Baidu', 'Operating Income', 2024, 'Q2', 820.83, 'CNY', 'Million', 5944.0), (676, 'Baidu', 'Revenue', 2024, 'Q2', 4685.69, 'CNY', 'Million', 33931.0), (677, 'Baidu', 'Tax Expense', 2024, 'Q2', 156.19, 'CNY', 'Million', 1131.0), (678, 'Baidu', 'Total Asset', 2024, 'Q2', 57177.63, 'CNY', 'Million', 415527.0), (679, 'Baidu', 'Cost of Goods Sold', 2024, 'Q3', 2288.09, 'CNY', 'Million', 16399.0), (680, 'Baidu', 'Operating Expense', 2024, 'Q3', 3855.39, 'CNY', 'Million', 27632.0), (681, 'Baidu', 'Operating Income', 2024, 'Q3', 826.69, 'CNY', 'Million', 5925.0), (682, 'Baidu', 'Revenue', 2024, 'Q3', 4682.08, 'CNY', 'Million', 33557.0), (683, 'Baidu', 'Tax Expense', 2024, 'Q3', 113.57, 'CNY', 'Million', 814.0), (684, 'Baidu', 'Total Asset', 2024, 'Q3', 59457.73, 'CNY', 'Million', 417316.0)]\n"
     ]
    }
   ],
   "source": [
    "query = \"SELECT * FROM fin_data;\"\n",
    "allow_companies = [\"Baidu\"]\n",
    "\n",
    "secured_sql = modify_query_with_companies(query, allow_companies)\n",
    "print(f\"Secured SQL: {secured_sql}\\n\")\n",
    "\n",
    "# 執行修改後的 SQL\n",
    "final_response = db.run(secured_sql)\n",
    "print(\"final_response: \\n\", final_response)"
   ]
  },
  {
   "cell_type": "code",
   "execution_count": 40,
   "metadata": {},
   "outputs": [
    {
     "name": "stdout",
     "output_type": "stream",
     "text": [
      "{'messages': [HumanMessage(content='Local_Currency 有哪些', additional_kwargs={}, response_metadata={}, id='b098ee10-8ede-43f6-ab35-fd393382e2ae'), AIMessage(content='', additional_kwargs={'function_call': {'name': 'sql_db_list_tables', 'arguments': '{}'}}, response_metadata={'is_blocked': False, 'safety_ratings': [], 'usage_metadata': {'prompt_token_count': 509, 'candidates_token_count': 7, 'total_token_count': 516, 'prompt_tokens_details': [{'modality': 1, 'token_count': 509}], 'candidates_tokens_details': [{'modality': 1, 'token_count': 7}], 'cached_content_token_count': 0, 'cache_tokens_details': []}, 'finish_reason': 'STOP', 'avg_logprobs': -0.059874896492276876}, id='run-125bb51c-87e1-48b6-9dce-d78002777769-0', tool_calls=[{'name': 'sql_db_list_tables', 'args': {}, 'id': '17fc6922-bbfd-4d4f-b82c-bc28f597e0fc', 'type': 'tool_call'}], usage_metadata={'input_tokens': 509, 'output_tokens': 7, 'total_tokens': 516}), ToolMessage(content='fin_data, trainscript_data, users', name='sql_db_list_tables', id='cc825849-0115-4b01-976a-b93c9c02d537', tool_call_id='17fc6922-bbfd-4d4f-b82c-bc28f597e0fc'), AIMessage(content='', additional_kwargs={'function_call': {'name': 'sql_db_schema', 'arguments': '{\"table_names\": \"fin_data\"}'}}, response_metadata={'is_blocked': False, 'safety_ratings': [], 'usage_metadata': {'prompt_token_count': 534, 'candidates_token_count': 11, 'total_token_count': 545, 'prompt_tokens_details': [{'modality': 1, 'token_count': 534}], 'candidates_tokens_details': [{'modality': 1, 'token_count': 11}], 'cached_content_token_count': 0, 'cache_tokens_details': []}, 'finish_reason': 'STOP', 'avg_logprobs': -0.005188509821891785}, id='run-9f30486e-5827-400a-9fe4-d1b2e2e9d5bd-0', tool_calls=[{'name': 'sql_db_schema', 'args': {'table_names': 'fin_data'}, 'id': '4b511749-351b-47d0-9bac-66dec5635dbe', 'type': 'tool_call'}], usage_metadata={'input_tokens': 534, 'output_tokens': 11, 'total_tokens': 545}), ToolMessage(content='\\nCREATE TABLE fin_data (\\n\\tid SERIAL NOT NULL, \\n\\tcompany_name VARCHAR(255) NOT NULL, \\n\\tindex_name VARCHAR(255) NOT NULL, \\n\\tcalendar_year INTEGER NOT NULL, \\n\\tcalendar_qtr VARCHAR(10) NOT NULL, \\n\\tusd_value DOUBLE PRECISION, \\n\\tlocal_currency VARCHAR(10) NOT NULL, \\n\\tval_unit VARCHAR(50) NOT NULL, \\n\\tlocal_value DOUBLE PRECISION, \\n\\tCONSTRAINT fin_data_pkey PRIMARY KEY (id)\\n)\\n\\n/*\\n3 rows from fin_data table:\\nid\\tcompany_name\\tindex_name\\tcalendar_year\\tcalendar_qtr\\tusd_value\\tlocal_currency\\tval_unit\\tlocal_value\\n1\\tAmazon\\tCost of Goods Sold\\t2020\\tQ1\\t44257.0\\tUSD\\tMillion\\t44257.0\\n2\\tAmazon\\tOperating Expense\\t2020\\tQ1\\t71463.0\\tUSD\\tMillion\\t71463.0\\n3\\tAmazon\\tOperating Income\\t2020\\tQ1\\t3989.0\\tUSD\\tMillion\\t3989.0\\n*/', name='sql_db_schema', id='5f82e178-2aaf-432f-9096-a99db5531760', tool_call_id='4b511749-351b-47d0-9bac-66dec5635dbe'), AIMessage(content='\\n', additional_kwargs={'function_call': {'name': 'sql_db_query', 'arguments': '{\"query\": \"SELECT DISTINCT local_currency FROM fin_data LIMIT 5\"}'}}, response_metadata={'is_blocked': False, 'safety_ratings': [], 'usage_metadata': {'prompt_token_count': 836, 'candidates_token_count': 19, 'total_token_count': 855, 'prompt_tokens_details': [{'modality': 1, 'token_count': 836}], 'candidates_tokens_details': [{'modality': 1, 'token_count': 19}], 'cached_content_token_count': 0, 'cache_tokens_details': []}, 'finish_reason': 'STOP', 'avg_logprobs': -0.0069249021379571216}, id='run-1cdd3ee6-488e-4610-9b07-5a3722bdbdf9-0', tool_calls=[{'name': 'sql_db_query', 'args': {'query': 'SELECT DISTINCT local_currency FROM fin_data LIMIT 5'}, 'id': '85effb47-9c8b-4e7e-aa08-13c92f9081d6', 'type': 'tool_call'}], usage_metadata={'input_tokens': 836, 'output_tokens': 19, 'total_tokens': 855}), ToolMessage(content=\"[('TWD',), ('CNY',), ('USD',), ('KRW',)]\", name='sql_db_query', id='72695ce6-4749-47b5-a275-a810ef93d2e6', tool_call_id='85effb47-9c8b-4e7e-aa08-13c92f9081d6'), AIMessage(content='fin_data 表中的 local_currency 有 TWD, CNY, USD, KRW。\\n', additional_kwargs={}, response_metadata={'is_blocked': False, 'safety_ratings': [], 'usage_metadata': {'prompt_token_count': 881, 'candidates_token_count': 21, 'total_token_count': 902, 'prompt_tokens_details': [{'modality': 1, 'token_count': 881}], 'candidates_tokens_details': [{'modality': 1, 'token_count': 21}], 'cached_content_token_count': 0, 'cache_tokens_details': []}, 'finish_reason': 'STOP', 'avg_logprobs': -0.08781121458326067}, id='run-5937b264-cd24-480c-9dcd-3fbf792dd362-0', usage_metadata={'input_tokens': 881, 'output_tokens': 21, 'total_tokens': 902})]}\n",
      "function_call:  {'name': 'sql_db_list_tables', 'arguments': '{}'}\n",
      "function_call:  {'name': 'sql_db_schema', 'arguments': '{\"table_names\": \"fin_data\"}'}\n",
      "function_call:  {'name': 'sql_db_query', 'arguments': '{\"query\": \"SELECT DISTINCT local_currency FROM fin_data LIMIT 5\"}'}\n",
      "db_queries:  ['SELECT DISTINCT local_currency FROM fin_data LIMIT 5']\n",
      "Generated SQL: SELECT DISTINCT local_currency FROM fin_data LIMIT 5\n",
      "\n",
      "Secured SQL: SELECT DISTINCT local_currency FROM fin_data WHERE company_name IN ('Baidu') LIMIT 5\n",
      "\n",
      "final_response: \n",
      " [('CNY',)]\n"
     ]
    }
   ],
   "source": [
    "query = \"Local_Currency 有哪些\"\n",
    "# 讓 LLM 產生 SQL 查詢\n",
    "generated_sql = sql_generator.run(query)\n",
    "print(f\"Generated SQL: {generated_sql}\\n\")\n",
    "\n",
    "# 在查詢中加入權限控制條件\n",
    "secured_sql = modify_query_with_companies(generated_sql, [\"Baidu\"])\n",
    "print(f\"Secured SQL: {secured_sql}\\n\")\n",
    "\n",
    "# 執行修改後的 SQL\n",
    "final_response = db.run(secured_sql)\n",
    "print(\"final_response: \\n\", final_response)"
   ]
  },
  {
   "cell_type": "code",
   "execution_count": 26,
   "metadata": {},
   "outputs": [
    {
     "data": {
      "text/plain": [
       "'[(75452.0,)]'"
      ]
     },
     "execution_count": 26,
     "metadata": {},
     "output_type": "execute_result"
    }
   ],
   "source": [
    "final_response"
   ]
  },
  {
   "cell_type": "code",
   "execution_count": 11,
   "metadata": {},
   "outputs": [
    {
     "data": {
      "text/plain": [
       "\"Amazon's Revenue for Q1 2020 was 75452.0 Million USD.\""
      ]
     },
     "execution_count": 11,
     "metadata": {},
     "output_type": "execute_result"
    }
   ],
   "source": [
    "generated_sql"
   ]
  }
 ],
 "metadata": {
  "kernelspec": {
   "display_name": "tsmc_hack",
   "language": "python",
   "name": "python3"
  },
  "language_info": {
   "codemirror_mode": {
    "name": "ipython",
    "version": 3
   },
   "file_extension": ".py",
   "mimetype": "text/x-python",
   "name": "python",
   "nbconvert_exporter": "python",
   "pygments_lexer": "ipython3",
   "version": "3.12.8"
  }
 },
 "nbformat": 4,
 "nbformat_minor": 2
}
